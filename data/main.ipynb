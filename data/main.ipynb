{
 "cells": [
  {
   "cell_type": "code",
   "execution_count": 1,
   "metadata": {},
   "outputs": [],
   "source": [
    "import os\n",
    "import geopandas as gpd\n",
    "import pandas as pd"
   ]
  },
  {
   "cell_type": "code",
   "execution_count": 2,
   "metadata": {},
   "outputs": [],
   "source": [
    "cities = gpd.read_file('./administrative/ne_10m_populated_places.shp')"
   ]
  },
  {
   "cell_type": "code",
   "execution_count": 4,
   "metadata": {},
   "outputs": [],
   "source": [
    "cities_russia = cities[cities['SOV_A3'] == 'RUS']"
   ]
  },
  {
   "cell_type": "code",
   "execution_count": 7,
   "metadata": {},
   "outputs": [],
   "source": [
    "cities_ukr = cities[cities['SOV_A3'] == 'UKR']"
   ]
  },
  {
   "cell_type": "code",
   "execution_count": 21,
   "metadata": {},
   "outputs": [],
   "source": [
    "atrs = ['NAME', 'NAME_RU', 'geometry']"
   ]
  },
  {
   "cell_type": "code",
   "execution_count": 30,
   "metadata": {},
   "outputs": [],
   "source": [
    "cities_ukr = cities_ukr[atrs]"
   ]
  },
  {
   "cell_type": "code",
   "execution_count": 29,
   "metadata": {},
   "outputs": [],
   "source": [
    "cities_ukr = gpd.read_file('./administrative/all_ukranian_cities.shp')"
   ]
  },
  {
   "cell_type": "code",
   "execution_count": 23,
   "metadata": {},
   "outputs": [],
   "source": [
    "cities_russia = cities_russia[atrs]"
   ]
  },
  {
   "cell_type": "code",
   "execution_count": 24,
   "metadata": {},
   "outputs": [
    {
     "data": {
      "text/html": [
       "<div>\n",
       "<style scoped>\n",
       "    .dataframe tbody tr th:only-of-type {\n",
       "        vertical-align: middle;\n",
       "    }\n",
       "\n",
       "    .dataframe tbody tr th {\n",
       "        vertical-align: top;\n",
       "    }\n",
       "\n",
       "    .dataframe thead th {\n",
       "        text-align: right;\n",
       "    }\n",
       "</style>\n",
       "<table border=\"1\" class=\"dataframe\">\n",
       "  <thead>\n",
       "    <tr style=\"text-align: right;\">\n",
       "      <th></th>\n",
       "      <th>NAME</th>\n",
       "      <th>NAME_RU</th>\n",
       "      <th>geometry</th>\n",
       "    </tr>\n",
       "  </thead>\n",
       "  <tbody>\n",
       "    <tr>\n",
       "      <th>535</th>\n",
       "      <td>Nazran</td>\n",
       "      <td>Назрань</td>\n",
       "      <td>POINT (44.78300 43.23300)</td>\n",
       "    </tr>\n",
       "    <tr>\n",
       "      <th>536</th>\n",
       "      <td>Ust' Ordynskiy</td>\n",
       "      <td>Усть-Ордынский</td>\n",
       "      <td>POINT (104.70000 52.83300)</td>\n",
       "    </tr>\n",
       "    <tr>\n",
       "      <th>1018</th>\n",
       "      <td>Maykop</td>\n",
       "      <td>Майкоп</td>\n",
       "      <td>POINT (40.12002 44.60998)</td>\n",
       "    </tr>\n",
       "    <tr>\n",
       "      <th>1019</th>\n",
       "      <td>Mozdok</td>\n",
       "      <td>Моздок</td>\n",
       "      <td>POINT (44.65437 43.75432)</td>\n",
       "    </tr>\n",
       "    <tr>\n",
       "      <th>1020</th>\n",
       "      <td>Georgievsk</td>\n",
       "      <td>Георгиевск</td>\n",
       "      <td>POINT (43.46995 44.15990)</td>\n",
       "    </tr>\n",
       "    <tr>\n",
       "      <th>...</th>\n",
       "      <td>...</td>\n",
       "      <td>...</td>\n",
       "      <td>...</td>\n",
       "    </tr>\n",
       "    <tr>\n",
       "      <th>6906</th>\n",
       "      <td>Perm</td>\n",
       "      <td>Пермь</td>\n",
       "      <td>POINT (56.24805 58.00191)</td>\n",
       "    </tr>\n",
       "    <tr>\n",
       "      <th>6914</th>\n",
       "      <td>Palana</td>\n",
       "      <td>Палана</td>\n",
       "      <td>POINT (159.95002 59.08400)</td>\n",
       "    </tr>\n",
       "    <tr>\n",
       "      <th>6915</th>\n",
       "      <td>Petropavlovsk-Kamchatsky</td>\n",
       "      <td>Петропавловск-Камчатский</td>\n",
       "      <td>POINT (158.62302 53.06199)</td>\n",
       "    </tr>\n",
       "    <tr>\n",
       "      <th>7135</th>\n",
       "      <td>St.  Petersburg</td>\n",
       "      <td>Санкт-Петербург</td>\n",
       "      <td>POINT (30.31407 59.94096)</td>\n",
       "    </tr>\n",
       "    <tr>\n",
       "      <th>7266</th>\n",
       "      <td>Moscow</td>\n",
       "      <td>Москва</td>\n",
       "      <td>POINT (37.61358 55.75411)</td>\n",
       "    </tr>\n",
       "  </tbody>\n",
       "</table>\n",
       "<p>585 rows × 3 columns</p>\n",
       "</div>"
      ],
      "text/plain": [
       "                          NAME                   NAME_RU  \\\n",
       "535                     Nazran                   Назрань   \n",
       "536             Ust' Ordynskiy            Усть-Ордынский   \n",
       "1018                    Maykop                    Майкоп   \n",
       "1019                    Mozdok                    Моздок   \n",
       "1020                Georgievsk                Георгиевск   \n",
       "...                        ...                       ...   \n",
       "6906                      Perm                     Пермь   \n",
       "6914                    Palana                    Палана   \n",
       "6915  Petropavlovsk-Kamchatsky  Петропавловск-Камчатский   \n",
       "7135           St.  Petersburg           Санкт-Петербург   \n",
       "7266                    Moscow                    Москва   \n",
       "\n",
       "                        geometry  \n",
       "535    POINT (44.78300 43.23300)  \n",
       "536   POINT (104.70000 52.83300)  \n",
       "1018   POINT (40.12002 44.60998)  \n",
       "1019   POINT (44.65437 43.75432)  \n",
       "1020   POINT (43.46995 44.15990)  \n",
       "...                          ...  \n",
       "6906   POINT (56.24805 58.00191)  \n",
       "6914  POINT (159.95002 59.08400)  \n",
       "6915  POINT (158.62302 53.06199)  \n",
       "7135   POINT (30.31407 59.94096)  \n",
       "7266   POINT (37.61358 55.75411)  \n",
       "\n",
       "[585 rows x 3 columns]"
      ]
     },
     "execution_count": 24,
     "metadata": {},
     "output_type": "execute_result"
    }
   ],
   "source": [
    "cities_russia"
   ]
  },
  {
   "cell_type": "code",
   "execution_count": 31,
   "metadata": {},
   "outputs": [],
   "source": [
    "cities_list = [cities_russia, cities_ukr]"
   ]
  },
  {
   "cell_type": "code",
   "execution_count": 33,
   "metadata": {},
   "outputs": [],
   "source": [
    "all_cities = pd.concat(cities_list)"
   ]
  },
  {
   "cell_type": "code",
   "execution_count": 2,
   "metadata": {},
   "outputs": [],
   "source": [
    "all_cities = gpd.read_file('./administrative/all_cities.shp', encoding='utf-8')"
   ]
  },
  {
   "cell_type": "code",
   "execution_count": 4,
   "metadata": {},
   "outputs": [],
   "source": [
    "main_cities_list = ['Москва', 'Санкт-Петербург', 'Новосибирск', 'Екатеринбург', 'Казань', 'Нижний Новгород',\n",
    "                    'Красноярск', 'Челябинск', 'Самара', 'Уфа', 'Ростов-на-Дону', 'Краснодар', 'Омск', 'Воронеж', 'Пермь', 'Волгоград',\n",
    "                    'Мурманск', 'Архангельск', 'Находка', 'Диксон', 'Тикси', 'Певек', 'Анадырь', 'Лаврентия',\n",
    "                    'Петропавловск-Камчатский', 'Магадан', 'Хабаровск', 'Владивосток', 'Благовещенск', 'Якутск',\n",
    "                    'Иркутск', 'Красноярск', 'Омск', 'Томск', 'Тюмень', 'Сургут']\n"
   ]
  },
  {
   "cell_type": "code",
   "execution_count": 3,
   "metadata": {},
   "outputs": [],
   "source": [
    "all_cities = gpd.read_file('./administrative/all_cities.shp', encoding='utf-8')"
   ]
  },
  {
   "cell_type": "code",
   "execution_count": 42,
   "metadata": {},
   "outputs": [
    {
     "name": "stdout",
     "output_type": "stream",
     "text": [
      "16\n"
     ]
    }
   ],
   "source": [
    "i = 0\n",
    "for city in all_cities['NAME_RU']:\n",
    "    if city in main_cities_list:\n",
    "        i += 1\n",
    "print(i)"
   ]
  },
  {
   "cell_type": "code",
   "execution_count": 5,
   "metadata": {},
   "outputs": [],
   "source": [
    "main_cities = all_cities[all_cities['NAME_RU'].isin(main_cities_list)]"
   ]
  },
  {
   "cell_type": "code",
   "execution_count": 6,
   "metadata": {},
   "outputs": [],
   "source": [
    "main_cities.to_file('./administrative/main_cities.shp', encoding='utf-8')"
   ]
  }
 ],
 "metadata": {
  "kernelspec": {
   "display_name": "Python 3",
   "language": "python",
   "name": "python3"
  },
  "language_info": {
   "codemirror_mode": {
    "name": "ipython",
    "version": 3
   },
   "file_extension": ".py",
   "mimetype": "text/x-python",
   "name": "python",
   "nbconvert_exporter": "python",
   "pygments_lexer": "ipython3",
   "version": "3.12.1"
  }
 },
 "nbformat": 4,
 "nbformat_minor": 2
}
